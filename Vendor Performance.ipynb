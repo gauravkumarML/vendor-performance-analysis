{
 "cells": [
  {
   "cell_type": "code",
   "execution_count": 26,
   "id": "8b39c9ec-806c-4957-9d56-eb2c1fb96319",
   "metadata": {},
   "outputs": [],
   "source": [
    "from sqlalchemy import create_engine\n",
    "import os\n",
    "import pandas as pd\n",
    "import logging\n",
    "import time\n",
    "\n",
    "logging.basicConfig(\n",
    "    filename = \"logs/ingestion_db.log\",\n",
    "    level = logging.DEBUG,\n",
    "    format = \"%(asctime)s - (levelname)s - %(message)s \",\n",
    "    filemode = \"a\" #append\n",
    ")\n",
    "\n",
    "engine = create_engine('sqlite:///inventory.db')\n",
    "\n",
    "def ingest_db(df, tableName, engine):\n",
    "    '''ingest dataframe into database table'''\n",
    "    df.to_sql(tableName, con = engine, if_exists = 'replace', index = False)\n",
    "\n",
    "def loadRawData():\n",
    "    '''intakes multiple csv files as dataframe and ingest into db. Logs the whole process inlcluding total time taken'''\n",
    "    for file in os.listdir('data'):\n",
    "        start = time.time()\n",
    "        if '.csv' in file:\n",
    "            df = pd.read_csv('data/'+file)\n",
    "            logging.info(f'Ingestion Info: {file}')\n",
    "            ingest_db(df, file[:-4] ,engine)\n",
    "        end = time.time()\n",
    "        totalTime = (end-start)/60\n",
    "        logging.info('Ingestion Complete')\n",
    "        logging.info(f'\\n Total Elapsed :{totalTime} in minutes')\n",
    "\n",
    "if __name__ == '__main__':\n",
    "    loadRawData()\n",
    "    "
   ]
  }
 ],
 "metadata": {
  "kernelspec": {
   "display_name": "Python 3 (ipykernel)",
   "language": "python",
   "name": "python3"
  },
  "language_info": {
   "codemirror_mode": {
    "name": "ipython",
    "version": 3
   },
   "file_extension": ".py",
   "mimetype": "text/x-python",
   "name": "python",
   "nbconvert_exporter": "python",
   "pygments_lexer": "ipython3",
   "version": "3.13.0"
  }
 },
 "nbformat": 4,
 "nbformat_minor": 5
}
